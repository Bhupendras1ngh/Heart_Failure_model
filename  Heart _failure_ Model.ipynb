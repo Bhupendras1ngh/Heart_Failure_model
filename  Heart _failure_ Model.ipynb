{
 "cells": [
  {
   "cell_type": "markdown",
   "metadata": {},
   "source": [
    "## Import Libraries"
   ]
  },
  {
   "cell_type": "code",
   "execution_count": 1,
   "metadata": {},
   "outputs": [],
   "source": [
    "import numpy as np \n",
    "import pandas as pd \n",
    "import matplotlib.pyplot as plt \n",
    "import seaborn as sns"
   ]
  },
  {
   "cell_type": "markdown",
   "metadata": {},
   "source": [
    "## Import dataset"
   ]
  },
  {
   "cell_type": "code",
   "execution_count": 2,
   "metadata": {},
   "outputs": [],
   "source": [
    "dataset= pd.read_csv('heart1123.csv')"
   ]
  },
  {
   "cell_type": "code",
   "execution_count": 3,
   "metadata": {},
   "outputs": [
    {
     "data": {
      "text/html": [
       "<div>\n",
       "<style scoped>\n",
       "    .dataframe tbody tr th:only-of-type {\n",
       "        vertical-align: middle;\n",
       "    }\n",
       "\n",
       "    .dataframe tbody tr th {\n",
       "        vertical-align: top;\n",
       "    }\n",
       "\n",
       "    .dataframe thead th {\n",
       "        text-align: right;\n",
       "    }\n",
       "</style>\n",
       "<table border=\"1\" class=\"dataframe\">\n",
       "  <thead>\n",
       "    <tr style=\"text-align: right;\">\n",
       "      <th></th>\n",
       "      <th>age</th>\n",
       "      <th>anaemia</th>\n",
       "      <th>creatinine_phosphokinase</th>\n",
       "      <th>diabetes</th>\n",
       "      <th>ejection_fraction</th>\n",
       "      <th>high_blood_pressure</th>\n",
       "      <th>platelets</th>\n",
       "      <th>serum_creatinine</th>\n",
       "      <th>serum_sodium</th>\n",
       "      <th>sex</th>\n",
       "      <th>smoking</th>\n",
       "      <th>time</th>\n",
       "      <th>DEATH_EVENT</th>\n",
       "    </tr>\n",
       "  </thead>\n",
       "  <tbody>\n",
       "    <tr>\n",
       "      <th>279</th>\n",
       "      <td>55.0</td>\n",
       "      <td>0</td>\n",
       "      <td>84</td>\n",
       "      <td>1</td>\n",
       "      <td>38</td>\n",
       "      <td>0</td>\n",
       "      <td>451000.00</td>\n",
       "      <td>1.3</td>\n",
       "      <td>136</td>\n",
       "      <td>0</td>\n",
       "      <td>0</td>\n",
       "      <td>246</td>\n",
       "      <td>0</td>\n",
       "    </tr>\n",
       "    <tr>\n",
       "      <th>280</th>\n",
       "      <td>70.0</td>\n",
       "      <td>0</td>\n",
       "      <td>2695</td>\n",
       "      <td>1</td>\n",
       "      <td>40</td>\n",
       "      <td>0</td>\n",
       "      <td>241000.00</td>\n",
       "      <td>1.0</td>\n",
       "      <td>137</td>\n",
       "      <td>1</td>\n",
       "      <td>0</td>\n",
       "      <td>247</td>\n",
       "      <td>0</td>\n",
       "    </tr>\n",
       "    <tr>\n",
       "      <th>281</th>\n",
       "      <td>70.0</td>\n",
       "      <td>0</td>\n",
       "      <td>582</td>\n",
       "      <td>0</td>\n",
       "      <td>40</td>\n",
       "      <td>0</td>\n",
       "      <td>51000.00</td>\n",
       "      <td>2.7</td>\n",
       "      <td>136</td>\n",
       "      <td>1</td>\n",
       "      <td>1</td>\n",
       "      <td>250</td>\n",
       "      <td>0</td>\n",
       "    </tr>\n",
       "    <tr>\n",
       "      <th>282</th>\n",
       "      <td>42.0</td>\n",
       "      <td>0</td>\n",
       "      <td>64</td>\n",
       "      <td>0</td>\n",
       "      <td>30</td>\n",
       "      <td>0</td>\n",
       "      <td>215000.00</td>\n",
       "      <td>3.8</td>\n",
       "      <td>128</td>\n",
       "      <td>1</td>\n",
       "      <td>1</td>\n",
       "      <td>250</td>\n",
       "      <td>0</td>\n",
       "    </tr>\n",
       "    <tr>\n",
       "      <th>283</th>\n",
       "      <td>65.0</td>\n",
       "      <td>0</td>\n",
       "      <td>1688</td>\n",
       "      <td>0</td>\n",
       "      <td>38</td>\n",
       "      <td>0</td>\n",
       "      <td>263358.03</td>\n",
       "      <td>1.1</td>\n",
       "      <td>138</td>\n",
       "      <td>1</td>\n",
       "      <td>1</td>\n",
       "      <td>250</td>\n",
       "      <td>0</td>\n",
       "    </tr>\n",
       "    <tr>\n",
       "      <th>284</th>\n",
       "      <td>50.0</td>\n",
       "      <td>1</td>\n",
       "      <td>54</td>\n",
       "      <td>0</td>\n",
       "      <td>40</td>\n",
       "      <td>0</td>\n",
       "      <td>279000.00</td>\n",
       "      <td>0.8</td>\n",
       "      <td>141</td>\n",
       "      <td>1</td>\n",
       "      <td>0</td>\n",
       "      <td>250</td>\n",
       "      <td>0</td>\n",
       "    </tr>\n",
       "    <tr>\n",
       "      <th>285</th>\n",
       "      <td>55.0</td>\n",
       "      <td>1</td>\n",
       "      <td>170</td>\n",
       "      <td>1</td>\n",
       "      <td>40</td>\n",
       "      <td>0</td>\n",
       "      <td>336000.00</td>\n",
       "      <td>1.2</td>\n",
       "      <td>135</td>\n",
       "      <td>1</td>\n",
       "      <td>0</td>\n",
       "      <td>250</td>\n",
       "      <td>0</td>\n",
       "    </tr>\n",
       "    <tr>\n",
       "      <th>286</th>\n",
       "      <td>60.0</td>\n",
       "      <td>0</td>\n",
       "      <td>253</td>\n",
       "      <td>0</td>\n",
       "      <td>35</td>\n",
       "      <td>0</td>\n",
       "      <td>279000.00</td>\n",
       "      <td>1.7</td>\n",
       "      <td>140</td>\n",
       "      <td>1</td>\n",
       "      <td>0</td>\n",
       "      <td>250</td>\n",
       "      <td>0</td>\n",
       "    </tr>\n",
       "    <tr>\n",
       "      <th>287</th>\n",
       "      <td>45.0</td>\n",
       "      <td>0</td>\n",
       "      <td>582</td>\n",
       "      <td>1</td>\n",
       "      <td>55</td>\n",
       "      <td>0</td>\n",
       "      <td>543000.00</td>\n",
       "      <td>1.0</td>\n",
       "      <td>132</td>\n",
       "      <td>0</td>\n",
       "      <td>0</td>\n",
       "      <td>250</td>\n",
       "      <td>0</td>\n",
       "    </tr>\n",
       "    <tr>\n",
       "      <th>288</th>\n",
       "      <td>65.0</td>\n",
       "      <td>0</td>\n",
       "      <td>892</td>\n",
       "      <td>1</td>\n",
       "      <td>35</td>\n",
       "      <td>0</td>\n",
       "      <td>263358.03</td>\n",
       "      <td>1.1</td>\n",
       "      <td>142</td>\n",
       "      <td>0</td>\n",
       "      <td>0</td>\n",
       "      <td>256</td>\n",
       "      <td>0</td>\n",
       "    </tr>\n",
       "    <tr>\n",
       "      <th>289</th>\n",
       "      <td>90.0</td>\n",
       "      <td>1</td>\n",
       "      <td>337</td>\n",
       "      <td>0</td>\n",
       "      <td>38</td>\n",
       "      <td>0</td>\n",
       "      <td>390000.00</td>\n",
       "      <td>0.9</td>\n",
       "      <td>144</td>\n",
       "      <td>0</td>\n",
       "      <td>0</td>\n",
       "      <td>256</td>\n",
       "      <td>0</td>\n",
       "    </tr>\n",
       "    <tr>\n",
       "      <th>290</th>\n",
       "      <td>45.0</td>\n",
       "      <td>0</td>\n",
       "      <td>615</td>\n",
       "      <td>1</td>\n",
       "      <td>55</td>\n",
       "      <td>0</td>\n",
       "      <td>222000.00</td>\n",
       "      <td>0.8</td>\n",
       "      <td>141</td>\n",
       "      <td>0</td>\n",
       "      <td>0</td>\n",
       "      <td>257</td>\n",
       "      <td>0</td>\n",
       "    </tr>\n",
       "    <tr>\n",
       "      <th>291</th>\n",
       "      <td>60.0</td>\n",
       "      <td>0</td>\n",
       "      <td>320</td>\n",
       "      <td>0</td>\n",
       "      <td>35</td>\n",
       "      <td>0</td>\n",
       "      <td>133000.00</td>\n",
       "      <td>1.4</td>\n",
       "      <td>139</td>\n",
       "      <td>1</td>\n",
       "      <td>0</td>\n",
       "      <td>258</td>\n",
       "      <td>0</td>\n",
       "    </tr>\n",
       "    <tr>\n",
       "      <th>292</th>\n",
       "      <td>52.0</td>\n",
       "      <td>0</td>\n",
       "      <td>190</td>\n",
       "      <td>1</td>\n",
       "      <td>38</td>\n",
       "      <td>0</td>\n",
       "      <td>382000.00</td>\n",
       "      <td>1.0</td>\n",
       "      <td>140</td>\n",
       "      <td>1</td>\n",
       "      <td>1</td>\n",
       "      <td>258</td>\n",
       "      <td>0</td>\n",
       "    </tr>\n",
       "    <tr>\n",
       "      <th>293</th>\n",
       "      <td>63.0</td>\n",
       "      <td>1</td>\n",
       "      <td>103</td>\n",
       "      <td>1</td>\n",
       "      <td>35</td>\n",
       "      <td>0</td>\n",
       "      <td>179000.00</td>\n",
       "      <td>0.9</td>\n",
       "      <td>136</td>\n",
       "      <td>1</td>\n",
       "      <td>1</td>\n",
       "      <td>270</td>\n",
       "      <td>0</td>\n",
       "    </tr>\n",
       "    <tr>\n",
       "      <th>294</th>\n",
       "      <td>62.0</td>\n",
       "      <td>0</td>\n",
       "      <td>61</td>\n",
       "      <td>1</td>\n",
       "      <td>38</td>\n",
       "      <td>1</td>\n",
       "      <td>155000.00</td>\n",
       "      <td>1.1</td>\n",
       "      <td>143</td>\n",
       "      <td>1</td>\n",
       "      <td>1</td>\n",
       "      <td>270</td>\n",
       "      <td>0</td>\n",
       "    </tr>\n",
       "    <tr>\n",
       "      <th>295</th>\n",
       "      <td>55.0</td>\n",
       "      <td>0</td>\n",
       "      <td>1820</td>\n",
       "      <td>0</td>\n",
       "      <td>38</td>\n",
       "      <td>0</td>\n",
       "      <td>270000.00</td>\n",
       "      <td>1.2</td>\n",
       "      <td>139</td>\n",
       "      <td>0</td>\n",
       "      <td>0</td>\n",
       "      <td>271</td>\n",
       "      <td>0</td>\n",
       "    </tr>\n",
       "    <tr>\n",
       "      <th>296</th>\n",
       "      <td>45.0</td>\n",
       "      <td>0</td>\n",
       "      <td>2060</td>\n",
       "      <td>1</td>\n",
       "      <td>60</td>\n",
       "      <td>0</td>\n",
       "      <td>742000.00</td>\n",
       "      <td>0.8</td>\n",
       "      <td>138</td>\n",
       "      <td>0</td>\n",
       "      <td>0</td>\n",
       "      <td>278</td>\n",
       "      <td>0</td>\n",
       "    </tr>\n",
       "    <tr>\n",
       "      <th>297</th>\n",
       "      <td>45.0</td>\n",
       "      <td>0</td>\n",
       "      <td>2413</td>\n",
       "      <td>0</td>\n",
       "      <td>38</td>\n",
       "      <td>0</td>\n",
       "      <td>140000.00</td>\n",
       "      <td>1.4</td>\n",
       "      <td>140</td>\n",
       "      <td>1</td>\n",
       "      <td>1</td>\n",
       "      <td>280</td>\n",
       "      <td>0</td>\n",
       "    </tr>\n",
       "    <tr>\n",
       "      <th>298</th>\n",
       "      <td>50.0</td>\n",
       "      <td>0</td>\n",
       "      <td>196</td>\n",
       "      <td>0</td>\n",
       "      <td>45</td>\n",
       "      <td>0</td>\n",
       "      <td>395000.00</td>\n",
       "      <td>1.6</td>\n",
       "      <td>136</td>\n",
       "      <td>1</td>\n",
       "      <td>1</td>\n",
       "      <td>285</td>\n",
       "      <td>0</td>\n",
       "    </tr>\n",
       "  </tbody>\n",
       "</table>\n",
       "</div>"
      ],
      "text/plain": [
       "      age  anaemia  creatinine_phosphokinase  diabetes  ejection_fraction  \\\n",
       "279  55.0        0                        84         1                 38   \n",
       "280  70.0        0                      2695         1                 40   \n",
       "281  70.0        0                       582         0                 40   \n",
       "282  42.0        0                        64         0                 30   \n",
       "283  65.0        0                      1688         0                 38   \n",
       "284  50.0        1                        54         0                 40   \n",
       "285  55.0        1                       170         1                 40   \n",
       "286  60.0        0                       253         0                 35   \n",
       "287  45.0        0                       582         1                 55   \n",
       "288  65.0        0                       892         1                 35   \n",
       "289  90.0        1                       337         0                 38   \n",
       "290  45.0        0                       615         1                 55   \n",
       "291  60.0        0                       320         0                 35   \n",
       "292  52.0        0                       190         1                 38   \n",
       "293  63.0        1                       103         1                 35   \n",
       "294  62.0        0                        61         1                 38   \n",
       "295  55.0        0                      1820         0                 38   \n",
       "296  45.0        0                      2060         1                 60   \n",
       "297  45.0        0                      2413         0                 38   \n",
       "298  50.0        0                       196         0                 45   \n",
       "\n",
       "     high_blood_pressure  platelets  serum_creatinine  serum_sodium  sex  \\\n",
       "279                    0  451000.00               1.3           136    0   \n",
       "280                    0  241000.00               1.0           137    1   \n",
       "281                    0   51000.00               2.7           136    1   \n",
       "282                    0  215000.00               3.8           128    1   \n",
       "283                    0  263358.03               1.1           138    1   \n",
       "284                    0  279000.00               0.8           141    1   \n",
       "285                    0  336000.00               1.2           135    1   \n",
       "286                    0  279000.00               1.7           140    1   \n",
       "287                    0  543000.00               1.0           132    0   \n",
       "288                    0  263358.03               1.1           142    0   \n",
       "289                    0  390000.00               0.9           144    0   \n",
       "290                    0  222000.00               0.8           141    0   \n",
       "291                    0  133000.00               1.4           139    1   \n",
       "292                    0  382000.00               1.0           140    1   \n",
       "293                    0  179000.00               0.9           136    1   \n",
       "294                    1  155000.00               1.1           143    1   \n",
       "295                    0  270000.00               1.2           139    0   \n",
       "296                    0  742000.00               0.8           138    0   \n",
       "297                    0  140000.00               1.4           140    1   \n",
       "298                    0  395000.00               1.6           136    1   \n",
       "\n",
       "     smoking  time  DEATH_EVENT  \n",
       "279        0   246            0  \n",
       "280        0   247            0  \n",
       "281        1   250            0  \n",
       "282        1   250            0  \n",
       "283        1   250            0  \n",
       "284        0   250            0  \n",
       "285        0   250            0  \n",
       "286        0   250            0  \n",
       "287        0   250            0  \n",
       "288        0   256            0  \n",
       "289        0   256            0  \n",
       "290        0   257            0  \n",
       "291        0   258            0  \n",
       "292        1   258            0  \n",
       "293        1   270            0  \n",
       "294        1   270            0  \n",
       "295        0   271            0  \n",
       "296        0   278            0  \n",
       "297        1   280            0  \n",
       "298        1   285            0  "
      ]
     },
     "execution_count": 3,
     "metadata": {},
     "output_type": "execute_result"
    }
   ],
   "source": [
    "dataset.tail(20)"
   ]
  },
  {
   "cell_type": "code",
   "execution_count": 4,
   "metadata": {},
   "outputs": [
    {
     "data": {
      "text/plain": [
       "age                         0\n",
       "anaemia                     0\n",
       "creatinine_phosphokinase    0\n",
       "diabetes                    0\n",
       "ejection_fraction           0\n",
       "high_blood_pressure         0\n",
       "platelets                   0\n",
       "serum_creatinine            0\n",
       "serum_sodium                0\n",
       "sex                         0\n",
       "smoking                     0\n",
       "time                        0\n",
       "DEATH_EVENT                 0\n",
       "dtype: int64"
      ]
     },
     "execution_count": 4,
     "metadata": {},
     "output_type": "execute_result"
    }
   ],
   "source": [
    "dataset.isnull().sum()"
   ]
  },
  {
   "cell_type": "code",
   "execution_count": 5,
   "metadata": {},
   "outputs": [
    {
     "data": {
      "text/html": [
       "<div>\n",
       "<style scoped>\n",
       "    .dataframe tbody tr th:only-of-type {\n",
       "        vertical-align: middle;\n",
       "    }\n",
       "\n",
       "    .dataframe tbody tr th {\n",
       "        vertical-align: top;\n",
       "    }\n",
       "\n",
       "    .dataframe thead th {\n",
       "        text-align: right;\n",
       "    }\n",
       "</style>\n",
       "<table border=\"1\" class=\"dataframe\">\n",
       "  <thead>\n",
       "    <tr style=\"text-align: right;\">\n",
       "      <th></th>\n",
       "      <th>age</th>\n",
       "      <th>anaemia</th>\n",
       "      <th>creatinine_phosphokinase</th>\n",
       "      <th>diabetes</th>\n",
       "      <th>ejection_fraction</th>\n",
       "      <th>high_blood_pressure</th>\n",
       "      <th>platelets</th>\n",
       "      <th>serum_creatinine</th>\n",
       "      <th>serum_sodium</th>\n",
       "      <th>sex</th>\n",
       "      <th>smoking</th>\n",
       "      <th>time</th>\n",
       "      <th>DEATH_EVENT</th>\n",
       "    </tr>\n",
       "  </thead>\n",
       "  <tbody>\n",
       "    <tr>\n",
       "      <th>count</th>\n",
       "      <td>299.000000</td>\n",
       "      <td>299.000000</td>\n",
       "      <td>299.000000</td>\n",
       "      <td>299.000000</td>\n",
       "      <td>299.000000</td>\n",
       "      <td>299.000000</td>\n",
       "      <td>299.000000</td>\n",
       "      <td>299.00000</td>\n",
       "      <td>299.000000</td>\n",
       "      <td>299.000000</td>\n",
       "      <td>299.00000</td>\n",
       "      <td>299.000000</td>\n",
       "      <td>299.00000</td>\n",
       "    </tr>\n",
       "    <tr>\n",
       "      <th>mean</th>\n",
       "      <td>60.833893</td>\n",
       "      <td>0.431438</td>\n",
       "      <td>581.839465</td>\n",
       "      <td>0.418060</td>\n",
       "      <td>38.083612</td>\n",
       "      <td>0.351171</td>\n",
       "      <td>263358.029264</td>\n",
       "      <td>1.39388</td>\n",
       "      <td>136.625418</td>\n",
       "      <td>0.648829</td>\n",
       "      <td>0.32107</td>\n",
       "      <td>130.260870</td>\n",
       "      <td>0.32107</td>\n",
       "    </tr>\n",
       "    <tr>\n",
       "      <th>std</th>\n",
       "      <td>11.894809</td>\n",
       "      <td>0.496107</td>\n",
       "      <td>970.287881</td>\n",
       "      <td>0.494067</td>\n",
       "      <td>11.834841</td>\n",
       "      <td>0.478136</td>\n",
       "      <td>97804.236869</td>\n",
       "      <td>1.03451</td>\n",
       "      <td>4.412477</td>\n",
       "      <td>0.478136</td>\n",
       "      <td>0.46767</td>\n",
       "      <td>77.614208</td>\n",
       "      <td>0.46767</td>\n",
       "    </tr>\n",
       "    <tr>\n",
       "      <th>min</th>\n",
       "      <td>40.000000</td>\n",
       "      <td>0.000000</td>\n",
       "      <td>23.000000</td>\n",
       "      <td>0.000000</td>\n",
       "      <td>14.000000</td>\n",
       "      <td>0.000000</td>\n",
       "      <td>25100.000000</td>\n",
       "      <td>0.50000</td>\n",
       "      <td>113.000000</td>\n",
       "      <td>0.000000</td>\n",
       "      <td>0.00000</td>\n",
       "      <td>4.000000</td>\n",
       "      <td>0.00000</td>\n",
       "    </tr>\n",
       "    <tr>\n",
       "      <th>25%</th>\n",
       "      <td>51.000000</td>\n",
       "      <td>0.000000</td>\n",
       "      <td>116.500000</td>\n",
       "      <td>0.000000</td>\n",
       "      <td>30.000000</td>\n",
       "      <td>0.000000</td>\n",
       "      <td>212500.000000</td>\n",
       "      <td>0.90000</td>\n",
       "      <td>134.000000</td>\n",
       "      <td>0.000000</td>\n",
       "      <td>0.00000</td>\n",
       "      <td>73.000000</td>\n",
       "      <td>0.00000</td>\n",
       "    </tr>\n",
       "    <tr>\n",
       "      <th>50%</th>\n",
       "      <td>60.000000</td>\n",
       "      <td>0.000000</td>\n",
       "      <td>250.000000</td>\n",
       "      <td>0.000000</td>\n",
       "      <td>38.000000</td>\n",
       "      <td>0.000000</td>\n",
       "      <td>262000.000000</td>\n",
       "      <td>1.10000</td>\n",
       "      <td>137.000000</td>\n",
       "      <td>1.000000</td>\n",
       "      <td>0.00000</td>\n",
       "      <td>115.000000</td>\n",
       "      <td>0.00000</td>\n",
       "    </tr>\n",
       "    <tr>\n",
       "      <th>75%</th>\n",
       "      <td>70.000000</td>\n",
       "      <td>1.000000</td>\n",
       "      <td>582.000000</td>\n",
       "      <td>1.000000</td>\n",
       "      <td>45.000000</td>\n",
       "      <td>1.000000</td>\n",
       "      <td>303500.000000</td>\n",
       "      <td>1.40000</td>\n",
       "      <td>140.000000</td>\n",
       "      <td>1.000000</td>\n",
       "      <td>1.00000</td>\n",
       "      <td>203.000000</td>\n",
       "      <td>1.00000</td>\n",
       "    </tr>\n",
       "    <tr>\n",
       "      <th>max</th>\n",
       "      <td>95.000000</td>\n",
       "      <td>1.000000</td>\n",
       "      <td>7861.000000</td>\n",
       "      <td>1.000000</td>\n",
       "      <td>80.000000</td>\n",
       "      <td>1.000000</td>\n",
       "      <td>850000.000000</td>\n",
       "      <td>9.40000</td>\n",
       "      <td>148.000000</td>\n",
       "      <td>1.000000</td>\n",
       "      <td>1.00000</td>\n",
       "      <td>285.000000</td>\n",
       "      <td>1.00000</td>\n",
       "    </tr>\n",
       "  </tbody>\n",
       "</table>\n",
       "</div>"
      ],
      "text/plain": [
       "              age     anaemia  creatinine_phosphokinase    diabetes  \\\n",
       "count  299.000000  299.000000                299.000000  299.000000   \n",
       "mean    60.833893    0.431438                581.839465    0.418060   \n",
       "std     11.894809    0.496107                970.287881    0.494067   \n",
       "min     40.000000    0.000000                 23.000000    0.000000   \n",
       "25%     51.000000    0.000000                116.500000    0.000000   \n",
       "50%     60.000000    0.000000                250.000000    0.000000   \n",
       "75%     70.000000    1.000000                582.000000    1.000000   \n",
       "max     95.000000    1.000000               7861.000000    1.000000   \n",
       "\n",
       "       ejection_fraction  high_blood_pressure      platelets  \\\n",
       "count         299.000000           299.000000     299.000000   \n",
       "mean           38.083612             0.351171  263358.029264   \n",
       "std            11.834841             0.478136   97804.236869   \n",
       "min            14.000000             0.000000   25100.000000   \n",
       "25%            30.000000             0.000000  212500.000000   \n",
       "50%            38.000000             0.000000  262000.000000   \n",
       "75%            45.000000             1.000000  303500.000000   \n",
       "max            80.000000             1.000000  850000.000000   \n",
       "\n",
       "       serum_creatinine  serum_sodium         sex    smoking        time  \\\n",
       "count         299.00000    299.000000  299.000000  299.00000  299.000000   \n",
       "mean            1.39388    136.625418    0.648829    0.32107  130.260870   \n",
       "std             1.03451      4.412477    0.478136    0.46767   77.614208   \n",
       "min             0.50000    113.000000    0.000000    0.00000    4.000000   \n",
       "25%             0.90000    134.000000    0.000000    0.00000   73.000000   \n",
       "50%             1.10000    137.000000    1.000000    0.00000  115.000000   \n",
       "75%             1.40000    140.000000    1.000000    1.00000  203.000000   \n",
       "max             9.40000    148.000000    1.000000    1.00000  285.000000   \n",
       "\n",
       "       DEATH_EVENT  \n",
       "count    299.00000  \n",
       "mean       0.32107  \n",
       "std        0.46767  \n",
       "min        0.00000  \n",
       "25%        0.00000  \n",
       "50%        0.00000  \n",
       "75%        1.00000  \n",
       "max        1.00000  "
      ]
     },
     "execution_count": 5,
     "metadata": {},
     "output_type": "execute_result"
    }
   ],
   "source": [
    "dataset.describe()"
   ]
  },
  {
   "cell_type": "code",
   "execution_count": 6,
   "metadata": {},
   "outputs": [
    {
     "data": {
      "text/plain": [
       "<matplotlib.axes._subplots.AxesSubplot at 0x242fbe61910>"
      ]
     },
     "execution_count": 6,
     "metadata": {},
     "output_type": "execute_result"
    },
    {
     "data": {
      "image/png": "[encoded data removed]",
      "text/plain": [
       "<Figure size 1152x504 with 2 Axes>"
      ]
     },
     "metadata": {
      "needs_background": "light"
     },
     "output_type": "display_data"
    }
   ],
   "source": [
    "plt.figure(figsize =(16,7))\n",
    "sns.heatmap(dataset.corr())"
   ]
  },
  {
   "cell_type": "code",
   "execution_count": 7,
   "metadata": {},
   "outputs": [
    {
     "data": {
      "text/plain": [
       "0    203\n",
       "1     96\n",
       "Name: DEATH_EVENT, dtype: int64"
      ]
     },
     "execution_count": 7,
     "metadata": {},
     "output_type": "execute_result"
    }
   ],
   "source": [
    "dataset['DEATH_EVENT'].value_counts()"
   ]
  },
  {
   "cell_type": "raw",
   "metadata": {},
   "source": []
  },
  {
   "cell_type": "code",
   "execution_count": 8,
   "metadata": {},
   "outputs": [
    {
     "data": {
      "text/plain": [
       "<matplotlib.axes._subplots.AxesSubplot at 0x242fbe00c70>"
      ]
     },
     "execution_count": 8,
     "metadata": {},
     "output_type": "execute_result"
    },
    {
     "data": {
      "image/png": "[encoded data removed]",
      "text/plain": [
       "<Figure size 864x360 with 1 Axes>"
      ]
     },
     "metadata": {
      "needs_background": "light"
     },
     "output_type": "display_data"
    }
   ],
   "source": [
    "plt.figure(figsize=( 12,5))\n",
    "sns.countplot(x = 'DEATH_EVENT' ,data =  dataset, )"
   ]
  },
  {
   "cell_type": "code",
   "execution_count": null,
   "metadata": {},
   "outputs": [],
   "source": []
  },
  {
   "cell_type": "code",
   "execution_count": 10,
   "metadata": {},
   "outputs": [],
   "source": [
    "X= dataset.iloc[:,:-1].values\n",
    "Y= dataset.iloc[:,-1].values"
   ]
  },
  {
   "cell_type": "code",
   "execution_count": 11,
   "metadata": {},
   "outputs": [
    {
     "data": {
      "text/plain": [
       "((299, 12), (299,))"
      ]
     },
     "execution_count": 11,
     "metadata": {},
     "output_type": "execute_result"
    }
   ],
   "source": [
    "X.shape , Y.shape"
   ]
  },
  {
   "cell_type": "code",
   "execution_count": 12,
   "metadata": {},
   "outputs": [
    {
     "data": {
      "text/plain": [
       "array([[7.500e+01, 0.000e+00, 5.820e+02, ..., 1.000e+00, 0.000e+00,\n",
       "        4.000e+00],\n",
       "       [5.500e+01, 0.000e+00, 7.861e+03, ..., 1.000e+00, 0.000e+00,\n",
       "        6.000e+00],\n",
       "       [6.500e+01, 0.000e+00, 1.460e+02, ..., 1.000e+00, 1.000e+00,\n",
       "        7.000e+00],\n",
       "       ...,\n",
       "       [4.500e+01, 0.000e+00, 2.060e+03, ..., 0.000e+00, 0.000e+00,\n",
       "        2.780e+02],\n",
       "       [4.500e+01, 0.000e+00, 2.413e+03, ..., 1.000e+00, 1.000e+00,\n",
       "        2.800e+02],\n",
       "       [5.000e+01, 0.000e+00, 1.960e+02, ..., 1.000e+00, 1.000e+00,\n",
       "        2.850e+02]])"
      ]
     },
     "execution_count": 12,
     "metadata": {},
     "output_type": "execute_result"
    }
   ],
   "source": [
    "X"
   ]
  },
  {
   "cell_type": "code",
   "execution_count": 13,
   "metadata": {},
   "outputs": [
    {
     "data": {
      "text/plain": [
       "array([1, 1, 1, 1, 1, 1, 1, 1, 1, 1, 1, 1, 1, 1, 0, 1, 1, 1, 1, 1, 0, 1,\n",
       "       1, 0, 1, 1, 1, 1, 1, 1, 1, 1, 1, 0, 1, 1, 1, 1, 0, 1, 1, 1, 1, 0,\n",
       "       1, 1, 1, 1, 1, 1, 1, 1, 1, 1, 1, 1, 0, 0, 1, 1, 1, 1, 0, 1, 0, 1,\n",
       "       1, 1, 1, 1, 0, 0, 1, 0, 1, 1, 0, 0, 0, 0, 0, 0, 1, 0, 1, 0, 0, 0,\n",
       "       0, 0, 0, 0, 0, 1, 0, 0, 0, 0, 0, 0, 0, 0, 0, 0, 0, 1, 0, 0, 0, 0,\n",
       "       1, 0, 0, 1, 0, 0, 0, 0, 0, 1, 0, 0, 0, 0, 1, 0, 1, 0, 0, 0, 0, 0,\n",
       "       0, 0, 0, 0, 0, 0, 0, 0, 1, 0, 0, 0, 1, 0, 0, 0, 1, 0, 1, 0, 0, 0,\n",
       "       0, 0, 0, 0, 0, 0, 0, 0, 0, 1, 1, 1, 0, 1, 0, 0, 0, 0, 0, 0, 0, 0,\n",
       "       0, 0, 0, 0, 0, 1, 1, 1, 1, 1, 1, 1, 0, 0, 0, 0, 0, 0, 1, 1, 0, 0,\n",
       "       0, 0, 0, 0, 0, 0, 0, 0, 0, 0, 0, 0, 0, 0, 0, 1, 0, 0, 0, 1, 0, 0,\n",
       "       1, 0, 0, 0, 0, 0, 0, 0, 0, 0, 1, 0, 0, 0, 0, 0, 0, 0, 0, 0, 0, 0,\n",
       "       0, 0, 0, 0, 1, 0, 0, 0, 0, 0, 0, 0, 0, 0, 0, 0, 0, 0, 0, 0, 1, 0,\n",
       "       0, 0, 1, 0, 0, 0, 0, 0, 0, 0, 0, 0, 0, 0, 0, 0, 0, 0, 0, 0, 0, 0,\n",
       "       0, 0, 0, 0, 0, 0, 0, 0, 0, 0, 0, 0, 0], dtype=int64)"
      ]
     },
     "execution_count": 13,
     "metadata": {},
     "output_type": "execute_result"
    }
   ],
   "source": [
    "Y"
   ]
  },
  {
   "cell_type": "markdown",
   "metadata": {},
   "source": [
    "## Splitting of Dataset into train_set and test_set"
   ]
  },
  {
   "cell_type": "code",
   "execution_count": 14,
   "metadata": {},
   "outputs": [],
   "source": [
    "from sklearn.model_selection import train_test_split\n",
    "X_train , X_test , Y_train, Y_test = train_test_split(X, Y , test_size = 0.1, random_state = 42)"
   ]
  },
  {
   "cell_type": "code",
   "execution_count": 15,
   "metadata": {},
   "outputs": [
    {
     "data": {
      "text/plain": [
       "((269, 12), (30, 12), (269,), (30,))"
      ]
     },
     "execution_count": 15,
     "metadata": {},
     "output_type": "execute_result"
    }
   ],
   "source": [
    "X_train.shape , X_test.shape , Y_train.shape , Y_test.shape"
   ]
  },
  {
   "cell_type": "code",
   "execution_count": 16,
   "metadata": {},
   "outputs": [],
   "source": [
    "from sklearn.preprocessing import MinMaxScaler \n",
    "sc = MinMaxScaler()\n",
    "# here we use MinMaxScaler instead of StandardScaler beacuse we have time column also , which won't be negative "
   ]
  },
  {
   "cell_type": "code",
   "execution_count": 17,
   "metadata": {},
   "outputs": [],
   "source": [
    "X_train = sc.fit_transform(X_train)\n",
    "X_test = sc.transform(X_test)"
   ]
  },
  {
   "cell_type": "code",
   "execution_count": 18,
   "metadata": {},
   "outputs": [
    {
     "data": {
      "text/plain": [
       "array([[0.09090909, 0.        , 0.07131921, ..., 1.        , 0.        ,\n",
       "        0.03558719],\n",
       "       [0.27272727, 1.        , 0.02003062, ..., 1.        , 1.        ,\n",
       "        0.7366548 ],\n",
       "       [0.18181818, 1.        , 0.01735137, ..., 0.        , 0.        ,\n",
       "        0.08896797],\n",
       "       ...,\n",
       "       [0.27272727, 0.        , 0.09249809, ..., 1.        , 0.        ,\n",
       "        0.29893238],\n",
       "       [0.07272727, 0.        , 0.07131921, ..., 1.        , 1.        ,\n",
       "        0.85409253],\n",
       "       [0.72727273, 0.        , 0.11163562, ..., 1.        , 1.        ,\n",
       "        0.29537367]])"
      ]
     },
     "execution_count": 18,
     "metadata": {},
     "output_type": "execute_result"
    }
   ],
   "source": [
    "X_train"
   ]
  },
  {
   "cell_type": "markdown",
   "metadata": {},
   "source": [
    "## Logistic regression "
   ]
  },
  {
   "cell_type": "code",
   "execution_count": 19,
   "metadata": {},
   "outputs": [
    {
     "data": {
      "text/plain": [
       "LogisticRegression(random_state=42)"
      ]
     },
     "execution_count": 19,
     "metadata": {},
     "output_type": "execute_result"
    }
   ],
   "source": [
    "from sklearn.linear_model import LogisticRegression\n",
    "classifier = LogisticRegression(random_state = 42)\n",
    "classifier.fit(X_train , Y_train)"
   ]
  },
  {
   "cell_type": "code",
   "execution_count": 20,
   "metadata": {},
   "outputs": [],
   "source": [
    "Y_pred_L = classifier.predict(X_test)"
   ]
  },
  {
   "cell_type": "code",
   "execution_count": 21,
   "metadata": {},
   "outputs": [
    {
     "data": {
      "text/plain": [
       "array([0, 0, 0, 1, 0, 0, 0, 0, 1, 0, 0, 0, 0, 0, 0, 0, 0, 0, 0, 0, 0, 0,\n",
       "       0, 1, 1, 0, 0, 0, 0, 0], dtype=int64)"
      ]
     },
     "execution_count": 21,
     "metadata": {},
     "output_type": "execute_result"
    }
   ],
   "source": [
    "Y_pred_L"
   ]
  },
  {
   "cell_type": "code",
   "execution_count": 22,
   "metadata": {},
   "outputs": [
    {
     "data": {
      "text/plain": [
       "0.7333333333333333"
      ]
     },
     "execution_count": 22,
     "metadata": {},
     "output_type": "execute_result"
    },
    {
     "data": {
      "image/png": "[encoded data removed]",
      "text/plain": [
       "<Figure size 432x288 with 2 Axes>"
      ]
     },
     "metadata": {
      "needs_background": "light"
     },
     "output_type": "display_data"
    }
   ],
   "source": [
    "from sklearn.metrics import confusion_matrix , accuracy_score\n",
    "cm = confusion_matrix(Y_pred_L , Y_test)\n",
    "sns.heatmap(cm)\n",
    "accuracy_score( Y_pred_L , Y_test)"
   ]
  },
  {
   "cell_type": "markdown",
   "metadata": {},
   "source": [
    "## KNeighbors Classifier"
   ]
  },
  {
   "cell_type": "code",
   "execution_count": 23,
   "metadata": {},
   "outputs": [],
   "source": [
    "\n",
    "\n",
    "from sklearn.neighbors import KNeighborsClassifier\n",
    "classifier_KN = KNeighborsClassifier( n_neighbors=5 , metric='minkowski')\n",
    "classifier_KN.fit(X_train , Y_train)\n",
    "Y_pred_KN = classifier_KN.predict(X_test)"
   ]
  },
  {
   "cell_type": "code",
   "execution_count": 24,
   "metadata": {},
   "outputs": [
    {
     "data": {
      "text/plain": [
       "0.7333333333333333"
      ]
     },
     "execution_count": 24,
     "metadata": {},
     "output_type": "execute_result"
    },
    {
     "data": {
      "image/png": "[encoded data removed]",
      "text/plain": [
       "<Figure size 432x288 with 2 Axes>"
      ]
     },
     "metadata": {
      "needs_background": "light"
     },
     "output_type": "display_data"
    }
   ],
   "source": [
    "cm = confusion_matrix(Y_pred_KN , Y_test)\n",
    "sns.heatmap(cm)\n",
    "accuracy_score( Y_pred_KN , Y_test)"
   ]
  },
  {
   "cell_type": "markdown",
   "metadata": {},
   "source": [
    "## SVM (Support vector Machine )"
   ]
  },
  {
   "cell_type": "code",
   "execution_count": 25,
   "metadata": {},
   "outputs": [
    {
     "data": {
      "text/plain": [
       "SVC(kernel='linear', random_state=42)"
      ]
     },
     "execution_count": 25,
     "metadata": {},
     "output_type": "execute_result"
    }
   ],
   "source": [
    "from sklearn.svm import SVC \n",
    "classifier_svc = SVC(kernel='linear' ,  random_state = 42)\n",
    "classifier_svc.fit(X_train , Y_train)"
   ]
  },
  {
   "cell_type": "code",
   "execution_count": 26,
   "metadata": {},
   "outputs": [
    {
     "data": {
      "text/plain": [
       "0.8"
      ]
     },
     "execution_count": 26,
     "metadata": {},
     "output_type": "execute_result"
    },
    {
     "data": {
      "image/png": "[encoded data removed]",
      "text/plain": [
       "<Figure size 432x288 with 2 Axes>"
      ]
     },
     "metadata": {
      "needs_background": "light"
     },
     "output_type": "display_data"
    }
   ],
   "source": [
    "Y_pred_svc = classifier_svc.predict(X_test)\n",
    "cm = confusion_matrix(Y_pred_svc , Y_test)\n",
    "sns.heatmap(cm)\n",
    "accuracy_score( Y_pred_svc , Y_test)"
   ]
  },
  {
   "cell_type": "markdown",
   "metadata": {},
   "source": [
    "## XG_Boost Classifier"
   ]
  },
  {
   "cell_type": "code",
   "execution_count": 27,
   "metadata": {},
   "outputs": [
    {
     "name": "stdout",
     "output_type": "stream",
     "text": [
      "[18:06:51] WARNING: C:/Users/Administrator/workspace/xgboost-win64_release_1.3.0/src/learner.cc:1061: Starting in XGBoost 1.3.0, the default evaluation metric used with the objective 'binary:logistic' was changed from 'error' to 'logloss'. Explicitly set eval_metric if you'd like to restore the old behavior.\n"
     ]
    },
    {
     "name": "stderr",
     "output_type": "stream",
     "text": [
      "C:\\Users\\dell\\anaconda3\\lib\\site-packages\\xgboost\\sklearn.py:892: UserWarning: The use of label encoder in XGBClassifier is deprecated and will be removed in a future release. To remove this warning, do the following: 1) Pass option use_label_encoder=False when constructing XGBClassifier object; and 2) Encode your labels (y) as integers starting with 0, i.e. 0, 1, 2, ..., [num_class - 1].\n",
      "  warnings.warn(label_encoder_deprecation_msg, UserWarning)\n"
     ]
    },
    {
     "data": {
      "text/plain": [
       "XGBClassifier(base_score=0.5, booster='gbtree', colsample_bylevel=1,\n",
       "              colsample_bynode=1, colsample_bytree=1, gamma=0, gpu_id=-1,\n",
       "              importance_type='gain', interaction_constraints='',\n",
       "              learning_rate=0.300000012, max_delta_step=0, max_depth=6,\n",
       "              min_child_weight=1, missing=nan, monotone_constraints='()',\n",
       "              n_estimators=100, n_jobs=4, num_parallel_tree=1, random_state=0,\n",
       "              reg_alpha=0, reg_lambda=1, scale_pos_weight=1, subsample=1,\n",
       "              tree_method='exact', validate_parameters=1, verbosity=None)"
      ]
     },
     "execution_count": 27,
     "metadata": {},
     "output_type": "execute_result"
    }
   ],
   "source": [
    "from xgboost import XGBClassifier\n",
    "classifier_xgb = XGBClassifier()\n",
    "classifier_xgb.fit(X_train , Y_train)"
   ]
  },
  {
   "cell_type": "code",
   "execution_count": 28,
   "metadata": {},
   "outputs": [],
   "source": [
    "Y_pred_xgb = classifier_xgb.predict(X_test)"
   ]
  },
  {
   "cell_type": "code",
   "execution_count": 29,
   "metadata": {},
   "outputs": [
    {
     "data": {
      "text/plain": [
       "0.7333333333333333"
      ]
     },
     "execution_count": 29,
     "metadata": {},
     "output_type": "execute_result"
    },
    {
     "data": {
      "image/png": "[encoded data removed]",
      "text/plain": [
       "<Figure size 432x288 with 2 Axes>"
      ]
     },
     "metadata": {
      "needs_background": "light"
     },
     "output_type": "display_data"
    }
   ],
   "source": [
    "cm = confusion_matrix(Y_pred_xgb , Y_test)\n",
    "sns.heatmap(cm)\n",
    "accuracy_score( Y_pred_xgb , Y_test)"
   ]
  },
  {
   "cell_type": "markdown",
   "metadata": {},
   "source": [
    "## ANN"
   ]
  },
  {
   "cell_type": "code",
   "execution_count": 42,
   "metadata": {},
   "outputs": [],
   "source": [
    "import tensorflow as tf"
   ]
  },
  {
   "cell_type": "code",
   "execution_count": 43,
   "metadata": {},
   "outputs": [],
   "source": [
    "ann = tf.keras.models.Sequential()\n",
    "ann.add(tf.keras.layers.Dense(units = 6 , activation = 'relu'))"
   ]
  },
  {
   "cell_type": "code",
   "execution_count": 44,
   "metadata": {},
   "outputs": [],
   "source": [
    "ann.add(tf.keras.layers.Dense(units = 6 , activation = 'relu'))"
   ]
  },
  {
   "cell_type": "code",
   "execution_count": 45,
   "metadata": {},
   "outputs": [],
   "source": [
    "ann.add(tf.keras.layers.Dense(units = 1 , activation = 'sigmoid'))"
   ]
  },
  {
   "cell_type": "code",
   "execution_count": 46,
   "metadata": {},
   "outputs": [],
   "source": [
    "ann.compile(optimizer = 'adam' ,loss = 'binary_crossentropy' ,metrics = ['accuracy'] )"
   ]
  },
  {
   "cell_type": "code",
   "execution_count": 47,
   "metadata": {},
   "outputs": [
    {
     "name": "stdout",
     "output_type": "stream",
     "text": [
      "Epoch 1/100\n",
      "9/9 [==============================] - 1s 4ms/step - loss: 0.6593 - accuracy: 0.6075\n",
      "Epoch 2/100\n",
      "9/9 [==============================] - 0s 2ms/step - loss: 0.6550 - accuracy: 0.6801\n",
      "Epoch 3/100\n",
      "9/9 [==============================] - 0s 2ms/step - loss: 0.6632 - accuracy: 0.6846\n",
      "Epoch 4/100\n",
      "9/9 [==============================] - 0s 2ms/step - loss: 0.6447 - accuracy: 0.6907\n",
      "Epoch 5/100\n",
      "9/9 [==============================] - 0s 2ms/step - loss: 0.6373 - accuracy: 0.7092\n",
      "Epoch 6/100\n",
      "9/9 [==============================] - 0s 2ms/step - loss: 0.6439 - accuracy: 0.6691\n",
      "Epoch 7/100\n",
      "9/9 [==============================] - 0s 2ms/step - loss: 0.6363 - accuracy: 0.7153\n",
      "Epoch 8/100\n",
      "9/9 [==============================] - 0s 2ms/step - loss: 0.6433 - accuracy: 0.6894\n",
      "Epoch 9/100\n",
      "9/9 [==============================] - 0s 2ms/step - loss: 0.6301 - accuracy: 0.6968\n",
      "Epoch 10/100\n",
      "9/9 [==============================] - 0s 2ms/step - loss: 0.6187 - accuracy: 0.7154\n",
      "Epoch 11/100\n",
      "9/9 [==============================] - 0s 2ms/step - loss: 0.6370 - accuracy: 0.6822\n",
      "Epoch 12/100\n",
      "9/9 [==============================] - 0s 2ms/step - loss: 0.6137 - accuracy: 0.7011\n",
      "Epoch 13/100\n",
      "9/9 [==============================] - 0s 2ms/step - loss: 0.6199 - accuracy: 0.6948\n",
      "Epoch 14/100\n",
      "9/9 [==============================] - 0s 2ms/step - loss: 0.6217 - accuracy: 0.6794\n",
      "Epoch 15/100\n",
      "9/9 [==============================] - 0s 2ms/step - loss: 0.6112 - accuracy: 0.6707\n",
      "Epoch 16/100\n",
      "9/9 [==============================] - 0s 2ms/step - loss: 0.6183 - accuracy: 0.6851\n",
      "Epoch 17/100\n",
      "9/9 [==============================] - 0s 2ms/step - loss: 0.6154 - accuracy: 0.6622\n",
      "Epoch 18/100\n",
      "9/9 [==============================] - 0s 2ms/step - loss: 0.6105 - accuracy: 0.6679\n",
      "Epoch 19/100\n",
      "9/9 [==============================] - 0s 2ms/step - loss: 0.6131 - accuracy: 0.6843\n",
      "Epoch 20/100\n",
      "9/9 [==============================] - 0s 2ms/step - loss: 0.5915 - accuracy: 0.7080\n",
      "Epoch 21/100\n",
      "9/9 [==============================] - 0s 2ms/step - loss: 0.5863 - accuracy: 0.7192\n",
      "Epoch 22/100\n",
      "9/9 [==============================] - 0s 2ms/step - loss: 0.6073 - accuracy: 0.6951\n",
      "Epoch 23/100\n",
      "9/9 [==============================] - 0s 2ms/step - loss: 0.6193 - accuracy: 0.6688\n",
      "Epoch 24/100\n",
      "9/9 [==============================] - 0s 1ms/step - loss: 0.5818 - accuracy: 0.7022\n",
      "Epoch 25/100\n",
      "9/9 [==============================] - 0s 2ms/step - loss: 0.5692 - accuracy: 0.7116\n",
      "Epoch 26/100\n",
      "9/9 [==============================] - 0s 2ms/step - loss: 0.5861 - accuracy: 0.6783\n",
      "Epoch 27/100\n",
      "9/9 [==============================] - 0s 2ms/step - loss: 0.5664 - accuracy: 0.7083\n",
      "Epoch 28/100\n",
      "9/9 [==============================] - 0s 2ms/step - loss: 0.5793 - accuracy: 0.6957\n",
      "Epoch 29/100\n",
      "9/9 [==============================] - 0s 2ms/step - loss: 0.5852 - accuracy: 0.6873\n",
      "Epoch 30/100\n",
      "9/9 [==============================] - 0s 2ms/step - loss: 0.5476 - accuracy: 0.7382\n",
      "Epoch 31/100\n",
      "9/9 [==============================] - 0s 2ms/step - loss: 0.5743 - accuracy: 0.7160\n",
      "Epoch 32/100\n",
      "9/9 [==============================] - 0s 834us/step - loss: 0.5352 - accuracy: 0.7450\n",
      "Epoch 33/100\n",
      "9/9 [==============================] - 0s 2ms/step - loss: 0.5675 - accuracy: 0.7020\n",
      "Epoch 34/100\n",
      "9/9 [==============================] - 0s 2ms/step - loss: 0.5339 - accuracy: 0.7199\n",
      "Epoch 35/100\n",
      "9/9 [==============================] - 0s 2ms/step - loss: 0.5410 - accuracy: 0.7268\n",
      "Epoch 36/100\n",
      "9/9 [==============================] - 0s 2ms/step - loss: 0.5395 - accuracy: 0.7396\n",
      "Epoch 37/100\n",
      "9/9 [==============================] - 0s 2ms/step - loss: 0.5251 - accuracy: 0.7437\n",
      "Epoch 38/100\n",
      "9/9 [==============================] - 0s 964us/step - loss: 0.5186 - accuracy: 0.7402\n",
      "Epoch 39/100\n",
      "9/9 [==============================] - 0s 2ms/step - loss: 0.5255 - accuracy: 0.7376\n",
      "Epoch 40/100\n",
      "9/9 [==============================] - 0s 2ms/step - loss: 0.5088 - accuracy: 0.7511\n",
      "Epoch 41/100\n",
      "9/9 [==============================] - 0s 2ms/step - loss: 0.4793 - accuracy: 0.7840\n",
      "Epoch 42/100\n",
      "9/9 [==============================] - 0s 2ms/step - loss: 0.5151 - accuracy: 0.7575\n",
      "Epoch 43/100\n",
      "9/9 [==============================] - 0s 2ms/step - loss: 0.4969 - accuracy: 0.7657\n",
      "Epoch 44/100\n",
      "9/9 [==============================] - 0s 2ms/step - loss: 0.4750 - accuracy: 0.7978\n",
      "Epoch 45/100\n",
      "9/9 [==============================] - 0s 2ms/step - loss: 0.4707 - accuracy: 0.7890\n",
      "Epoch 46/100\n",
      "9/9 [==============================] - 0s 2ms/step - loss: 0.4848 - accuracy: 0.7722\n",
      "Epoch 47/100\n",
      "9/9 [==============================] - 0s 2ms/step - loss: 0.4819 - accuracy: 0.7808\n",
      "Epoch 48/100\n",
      "9/9 [==============================] - 0s 2ms/step - loss: 0.4457 - accuracy: 0.8083\n",
      "Epoch 49/100\n",
      "9/9 [==============================] - 0s 2ms/step - loss: 0.4835 - accuracy: 0.7636\n",
      "Epoch 50/100\n",
      "9/9 [==============================] - 0s 2ms/step - loss: 0.4680 - accuracy: 0.7704\n",
      "Epoch 51/100\n",
      "9/9 [==============================] - 0s 2ms/step - loss: 0.4475 - accuracy: 0.7920\n",
      "Epoch 52/100\n",
      "9/9 [==============================] - 0s 2ms/step - loss: 0.4779 - accuracy: 0.7714\n",
      "Epoch 53/100\n",
      "9/9 [==============================] - 0s 2ms/step - loss: 0.4718 - accuracy: 0.7561\n",
      "Epoch 54/100\n",
      "9/9 [==============================] - 0s 3ms/step - loss: 0.4332 - accuracy: 0.8037\n",
      "Epoch 55/100\n",
      "9/9 [==============================] - 0s 2ms/step - loss: 0.4264 - accuracy: 0.8086\n",
      "Epoch 56/100\n",
      "9/9 [==============================] - 0s 2ms/step - loss: 0.4322 - accuracy: 0.7933\n",
      "Epoch 57/100\n",
      "9/9 [==============================] - 0s 2ms/step - loss: 0.4267 - accuracy: 0.7882\n",
      "Epoch 58/100\n",
      "9/9 [==============================] - 0s 2ms/step - loss: 0.4316 - accuracy: 0.7963\n",
      "Epoch 59/100\n",
      "9/9 [==============================] - 0s 1ms/step - loss: 0.4226 - accuracy: 0.7986\n",
      "Epoch 60/100\n",
      "9/9 [==============================] - 0s 2ms/step - loss: 0.4423 - accuracy: 0.7743\n",
      "Epoch 61/100\n",
      "9/9 [==============================] - 0s 2ms/step - loss: 0.4347 - accuracy: 0.7803\n",
      "Epoch 62/100\n",
      "9/9 [==============================] - 0s 2ms/step - loss: 0.4557 - accuracy: 0.7727\n",
      "Epoch 63/100\n",
      "9/9 [==============================] - 0s 2ms/step - loss: 0.3972 - accuracy: 0.8258\n",
      "Epoch 64/100\n",
      "9/9 [==============================] - 0s 2ms/step - loss: 0.4211 - accuracy: 0.8023\n",
      "Epoch 65/100\n",
      "9/9 [==============================] - 0s 2ms/step - loss: 0.4117 - accuracy: 0.8098\n",
      "Epoch 66/100\n",
      "9/9 [==============================] - 0s 2ms/step - loss: 0.3978 - accuracy: 0.8147\n",
      "Epoch 67/100\n",
      "9/9 [==============================] - 0s 2ms/step - loss: 0.4105 - accuracy: 0.8099\n",
      "Epoch 68/100\n",
      "9/9 [==============================] - 0s 2ms/step - loss: 0.4039 - accuracy: 0.8111\n",
      "Epoch 69/100\n",
      "9/9 [==============================] - 0s 2ms/step - loss: 0.3826 - accuracy: 0.8345\n",
      "Epoch 70/100\n",
      "9/9 [==============================] - 0s 3ms/step - loss: 0.4166 - accuracy: 0.8003\n",
      "Epoch 71/100\n",
      "9/9 [==============================] - 0s 2ms/step - loss: 0.3975 - accuracy: 0.8344\n",
      "Epoch 72/100\n",
      "9/9 [==============================] - 0s 2ms/step - loss: 0.4313 - accuracy: 0.7860\n",
      "Epoch 73/100\n",
      "9/9 [==============================] - 0s 2ms/step - loss: 0.3919 - accuracy: 0.8221\n",
      "Epoch 74/100\n",
      "9/9 [==============================] - 0s 755us/step - loss: 0.3843 - accuracy: 0.8241\n",
      "Epoch 75/100\n",
      "9/9 [==============================] - 0s 2ms/step - loss: 0.4109 - accuracy: 0.8189\n",
      "Epoch 76/100\n",
      "9/9 [==============================] - 0s 2ms/step - loss: 0.3852 - accuracy: 0.8375\n",
      "Epoch 77/100\n",
      "9/9 [==============================] - 0s 1ms/step - loss: 0.4264 - accuracy: 0.8028\n",
      "Epoch 78/100\n",
      "9/9 [==============================] - 0s 2ms/step - loss: 0.3974 - accuracy: 0.8290\n",
      "Epoch 79/100\n",
      "9/9 [==============================] - 0s 2ms/step - loss: 0.3948 - accuracy: 0.8245\n",
      "Epoch 80/100\n",
      "9/9 [==============================] - 0s 2ms/step - loss: 0.4064 - accuracy: 0.8156\n",
      "Epoch 81/100\n",
      "9/9 [==============================] - 0s 2ms/step - loss: 0.3948 - accuracy: 0.8254\n",
      "Epoch 82/100\n",
      "9/9 [==============================] - 0s 2ms/step - loss: 0.3235 - accuracy: 0.8719\n",
      "Epoch 83/100\n",
      "9/9 [==============================] - 0s 2ms/step - loss: 0.3941 - accuracy: 0.8277\n",
      "Epoch 84/100\n"
     ]
    },
    {
     "name": "stdout",
     "output_type": "stream",
     "text": [
      "9/9 [==============================] - 0s 2ms/step - loss: 0.3870 - accuracy: 0.8266\n",
      "Epoch 85/100\n",
      "9/9 [==============================] - 0s 2ms/step - loss: 0.3822 - accuracy: 0.8122\n",
      "Epoch 86/100\n",
      "9/9 [==============================] - 0s 1ms/step - loss: 0.3460 - accuracy: 0.8563\n",
      "Epoch 87/100\n",
      "9/9 [==============================] - 0s 2ms/step - loss: 0.3872 - accuracy: 0.8456\n",
      "Epoch 88/100\n",
      "9/9 [==============================] - 0s 2ms/step - loss: 0.3857 - accuracy: 0.8484\n",
      "Epoch 89/100\n",
      "9/9 [==============================] - 0s 2ms/step - loss: 0.3613 - accuracy: 0.8377\n",
      "Epoch 90/100\n",
      "9/9 [==============================] - 0s 1ms/step - loss: 0.4116 - accuracy: 0.8309\n",
      "Epoch 91/100\n",
      "9/9 [==============================] - 0s 3ms/step - loss: 0.3785 - accuracy: 0.8345\n",
      "Epoch 92/100\n",
      "9/9 [==============================] - 0s 2ms/step - loss: 0.3590 - accuracy: 0.8303\n",
      "Epoch 93/100\n",
      "9/9 [==============================] - 0s 2ms/step - loss: 0.3598 - accuracy: 0.8498\n",
      "Epoch 94/100\n",
      "9/9 [==============================] - 0s 2ms/step - loss: 0.3826 - accuracy: 0.8444\n",
      "Epoch 95/100\n",
      "9/9 [==============================] - 0s 2ms/step - loss: 0.3359 - accuracy: 0.8582\n",
      "Epoch 96/100\n",
      "9/9 [==============================] - 0s 2ms/step - loss: 0.3740 - accuracy: 0.8401\n",
      "Epoch 97/100\n",
      "9/9 [==============================] - 0s 2ms/step - loss: 0.3531 - accuracy: 0.8309\n",
      "Epoch 98/100\n",
      "9/9 [==============================] - 0s 2ms/step - loss: 0.3872 - accuracy: 0.8051\n",
      "Epoch 99/100\n",
      "9/9 [==============================] - 0s 2ms/step - loss: 0.4215 - accuracy: 0.8051\n",
      "Epoch 100/100\n",
      "9/9 [==============================] - 0s 2ms/step - loss: 0.3725 - accuracy: 0.8415\n"
     ]
    },
    {
     "data": {
      "text/plain": [
       "<tensorflow.python.keras.callbacks.History at 0x2428cc98ac0>"
      ]
     },
     "execution_count": 47,
     "metadata": {},
     "output_type": "execute_result"
    }
   ],
   "source": [
    "\n",
    "ann.fit(X_train , Y_train , batch_size = 32  , epochs = 100 )"
   ]
  },
  {
   "cell_type": "code",
   "execution_count": 48,
   "metadata": {},
   "outputs": [],
   "source": [
    "Y_pred = ann.predict(X_test)"
   ]
  },
  {
   "cell_type": "code",
   "execution_count": 49,
   "metadata": {},
   "outputs": [
    {
     "data": {
      "text/plain": [
       "array([[0.05082914],\n",
       "       [0.01867002],\n",
       "       [0.25357646],\n",
       "       [0.9857207 ],\n",
       "       [0.18029305],\n",
       "       [0.03260326],\n",
       "       [0.53814566],\n",
       "       [0.37838203],\n",
       "       [0.9206264 ],\n",
       "       [0.13883573],\n",
       "       [0.17714942],\n",
       "       [0.14397556],\n",
       "       [0.14327556],\n",
       "       [0.23632875],\n",
       "       [0.3594389 ],\n",
       "       [0.8760034 ],\n",
       "       [0.0963721 ],\n",
       "       [0.25870937],\n",
       "       [0.23648298],\n",
       "       [0.4210543 ],\n",
       "       [0.46316963],\n",
       "       [0.24241018],\n",
       "       [0.13402176],\n",
       "       [0.5855876 ],\n",
       "       [0.6349862 ],\n",
       "       [0.02020344],\n",
       "       [0.07168251],\n",
       "       [0.12973866],\n",
       "       [0.10004342],\n",
       "       [0.03404242]], dtype=float32)"
      ]
     },
     "execution_count": 49,
     "metadata": {},
     "output_type": "execute_result"
    }
   ],
   "source": [
    "Y_pred"
   ]
  },
  {
   "cell_type": "code",
   "execution_count": 50,
   "metadata": {},
   "outputs": [],
   "source": [
    "Y_pred = np.where(Y_pred >0.5 , 1 , 0)"
   ]
  },
  {
   "cell_type": "code",
   "execution_count": 51,
   "metadata": {},
   "outputs": [
    {
     "data": {
      "text/plain": [
       "array([[0],\n",
       "       [0],\n",
       "       [0],\n",
       "       [1],\n",
       "       [0],\n",
       "       [0],\n",
       "       [1],\n",
       "       [0],\n",
       "       [1],\n",
       "       [0],\n",
       "       [0],\n",
       "       [0],\n",
       "       [0],\n",
       "       [0],\n",
       "       [0],\n",
       "       [1],\n",
       "       [0],\n",
       "       [0],\n",
       "       [0],\n",
       "       [0],\n",
       "       [0],\n",
       "       [0],\n",
       "       [0],\n",
       "       [1],\n",
       "       [1],\n",
       "       [0],\n",
       "       [0],\n",
       "       [0],\n",
       "       [0],\n",
       "       [0]])"
      ]
     },
     "execution_count": 51,
     "metadata": {},
     "output_type": "execute_result"
    }
   ],
   "source": [
    "Y_pred"
   ]
  },
  {
   "cell_type": "code",
   "execution_count": 52,
   "metadata": {},
   "outputs": [
    {
     "data": {
      "text/plain": [
       "array([0, 0, 1, 1, 0, 0, 1, 0, 1, 0, 0, 1, 1, 0, 0, 1, 0, 0, 1, 1, 0, 0,\n",
       "       0, 1, 1, 0, 0, 0, 1, 0], dtype=int64)"
      ]
     },
     "execution_count": 52,
     "metadata": {},
     "output_type": "execute_result"
    }
   ],
   "source": [
    "Y_test"
   ]
  },
  {
   "cell_type": "code",
   "execution_count": 53,
   "metadata": {},
   "outputs": [
    {
     "data": {
      "text/plain": [
       "0.8"
      ]
     },
     "execution_count": 53,
     "metadata": {},
     "output_type": "execute_result"
    },
    {
     "data": {
      "image/png": "[encoded data removed]",
      "text/plain": [
       "<Figure size 432x288 with 2 Axes>"
      ]
     },
     "metadata": {
      "needs_background": "light"
     },
     "output_type": "display_data"
    }
   ],
   "source": [
    "from sklearn.metrics import confusion_matrix , accuracy_score\n",
    "cm = confusion_matrix(Y_pred , Y_test)\n",
    "sns.heatmap(cm)\n",
    "accuracy_score(Y_test.reshape(len(Y_test), 1) , Y_pred.reshape(len(Y_pred),1))"
   ]
  },
  {
   "cell_type": "code",
   "execution_count": null,
   "metadata": {},
   "outputs": [],
   "source": []
  },
  {
   "cell_type": "code",
   "execution_count": null,
   "metadata": {},
   "outputs": [],
   "source": []
  },
  {
   "cell_type": "code",
   "execution_count": null,
   "metadata": {},
   "outputs": [],
   "source": []
  },
  {
   "cell_type": "code",
   "execution_count": null,
   "metadata": {},
   "outputs": [],
   "source": []
  }
 ],
 "metadata": {
  "kernelspec": {
   "display_name": "Python 3",
   "language": "python",
   "name": "python3"
  },
  "language_info": {
   "codemirror_mode": {
    "name": "ipython",
    "version": 3
   },
   "file_extension": ".py",
   "mimetype": "text/x-python",
   "name": "python",
   "nbconvert_exporter": "python",
   "pygments_lexer": "ipython3",
   "version": "3.8.3"
  }
 },
 "nbformat": 4,
 "nbformat_minor": 4
}
